{
 "cells": [
  {
   "cell_type": "code",
   "execution_count": 21,
   "metadata": {},
   "outputs": [],
   "source": [
    "from datetime import datetime\n",
    "import requests \n",
    "import pandas as pd\n",
    "from bs4 import BeautifulSoup"
   ]
  },
  {
   "cell_type": "code",
   "execution_count": 22,
   "metadata": {},
   "outputs": [
    {
     "data": {
      "text/html": [
       "<div>\n",
       "<style scoped>\n",
       "    .dataframe tbody tr th:only-of-type {\n",
       "        vertical-align: middle;\n",
       "    }\n",
       "\n",
       "    .dataframe tbody tr th {\n",
       "        vertical-align: top;\n",
       "    }\n",
       "\n",
       "    .dataframe thead th {\n",
       "        text-align: right;\n",
       "    }\n",
       "</style>\n",
       "<table border=\"1\" class=\"dataframe\">\n",
       "  <thead>\n",
       "    <tr style=\"text-align: right;\">\n",
       "      <th></th>\n",
       "      <th>Name of State / UT</th>\n",
       "      <th>Total Confirmed cases (Indian National)</th>\n",
       "      <th>Total Confirmed cases ( Foreign National )</th>\n",
       "    </tr>\n",
       "  </thead>\n",
       "  <tbody>\n",
       "    <tr>\n",
       "      <th>0</th>\n",
       "      <td>Delhi</td>\n",
       "      <td>5</td>\n",
       "      <td>0</td>\n",
       "    </tr>\n",
       "    <tr>\n",
       "      <th>1</th>\n",
       "      <td>Haryana</td>\n",
       "      <td>0</td>\n",
       "      <td>14</td>\n",
       "    </tr>\n",
       "    <tr>\n",
       "      <th>2</th>\n",
       "      <td>Kerala</td>\n",
       "      <td>17</td>\n",
       "      <td>0</td>\n",
       "    </tr>\n",
       "    <tr>\n",
       "      <th>3</th>\n",
       "      <td>Rajasthan</td>\n",
       "      <td>1</td>\n",
       "      <td>2</td>\n",
       "    </tr>\n",
       "    <tr>\n",
       "      <th>4</th>\n",
       "      <td>Telengana</td>\n",
       "      <td>1</td>\n",
       "      <td>0</td>\n",
       "    </tr>\n",
       "  </tbody>\n",
       "</table>\n",
       "</div>"
      ],
      "text/plain": [
       "  Name of State / UT Total Confirmed cases (Indian National)  \\\n",
       "0              Delhi                                       5   \n",
       "1            Haryana                                       0   \n",
       "2             Kerala                                      17   \n",
       "3          Rajasthan                                       1   \n",
       "4          Telengana                                       1   \n",
       "\n",
       "  Total Confirmed cases ( Foreign National )  \n",
       "0                                          0  \n",
       "1                                         14  \n",
       "2                                          0  \n",
       "3                                          2  \n",
       "4                                          0  "
      ]
     },
     "execution_count": 22,
     "metadata": {},
     "output_type": "execute_result"
    }
   ],
   "source": [
    "# web scrapping\n",
    "\n",
    "link = 'https://www.mohfw.gov.in/'\n",
    "req = requests.get(link)\n",
    "soup = BeautifulSoup(req.content, \"html.parser\")\n",
    "\n",
    "table = soup.find_all('table')[0]\n",
    "rows = table.find_all('tr')\n",
    "\n",
    "row_list = []\n",
    "\n",
    "for tr in rows:\n",
    "    td = tr.find_all('td')\n",
    "    row = [i.text for i in td]\n",
    "    row_list.append(row)\n",
    "    \n",
    "    df_bs = pd.DataFrame(row_list[1:len(row_list)-1], columns=row_list[0])\n",
    "    \n",
    "df_bs.drop('S. No.', axis=1, inplace=True)\n",
    "df_bs.head()"
   ]
  },
  {
   "cell_type": "code",
   "execution_count": null,
   "metadata": {},
   "outputs": [],
   "source": [
    "# date-time information\n",
    "\n",
    "now  = datetime.now()\n",
    "df_bs['Date'] = now.strftime(\"%Y-%m-%d\") \n",
    "df_bs.head()"
   ]
  },
  {
   "cell_type": "code",
   "execution_count": 17,
   "metadata": {},
   "outputs": [],
   "source": [
    "# latitude and longitude\n",
    "\n",
    "lat = {'Delhi':28.7041,\n",
    "       'Haryana':29.0588,\n",
    "       'Kerala':10.8505,\n",
    "       'Rajasthan':27.0238,\n",
    "       'Telengana':18.1124,\n",
    "       'Uttar Pradesh':26.8467,\n",
    "       'Union Territory of Ladakh':34.2996,\n",
    "       'Tamil Nadu':11.1271,\n",
    "       'Union Territory of Jammu and Kashmir':33.7782,\n",
    "       'Punjab':31.1471,\n",
    "       'Karnataka':15.3173,\n",
    "       'Maharashtra':19.7515}\n",
    "\n",
    "long = {'Delhi':77.1025,\n",
    "        'Haryana':76.0856,\n",
    "        'Kerala':76.2711,\n",
    "        'Rajasthan':74.2179,\n",
    "        'Telengana':79.0193,\n",
    "        'Uttar Pradesh':80.9462,\n",
    "        'Union Territory of Ladakh':78.2932,\n",
    "        'Tamil Nadu':78.6569,\n",
    "        'Union Territory of Jammu and Kashmir':76.5762,\n",
    "        'Punjab':75.3412,\n",
    "        'Karnataka':75.7139,\n",
    "        'Maharashtra':75.7139}\n",
    "\n",
    "df_bs['Latitude'] = df_bs['Name of State / UT'].map(lat)\n",
    "df_bs['Longitude'] = df_bs['Name of State / UT'].map(long)  \n",
    "\n",
    "df_bs.head()"
   ]
  },
  {
   "cell_type": "code",
   "execution_count": 19,
   "metadata": {},
   "outputs": [],
   "source": [
    "file_name = now.strftime(\"%Y_%m_%d\")+'.csv'\n",
    "df_bs.to_csv(file_name, index=False)"
   ]
  }
 ],
 "metadata": {
  "kernelspec": {
   "display_name": "Python 3",
   "language": "python",
   "name": "python3"
  },
  "language_info": {
   "codemirror_mode": {
    "name": "ipython",
    "version": 3
   },
   "file_extension": ".py",
   "mimetype": "text/x-python",
   "name": "python",
   "nbconvert_exporter": "python",
   "pygments_lexer": "ipython3",
   "version": "3.7.6"
  }
 },
 "nbformat": 4,
 "nbformat_minor": 4
}
